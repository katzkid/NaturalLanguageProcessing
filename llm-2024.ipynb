{
 "cells": [
  {
   "cell_type": "markdown",
   "id": "d048a4bf",
   "metadata": {},
   "source": [
    "# Playground to get acquainted with LLMs\n",
    "\n",
    "Huggingface playground to manipulate LLMs such as BERT or GPT.\n",
    "\n",
    "Note that fine-tuning a LLM will come next and is not (yet) included into this notebook. The purpose here is to fully illustrate what a LLM is and how we can manipulate it, as a language model on the one hand and as an encoder to yield contextual embeddings on the other hand."
   ]
  },
  {
   "cell_type": "code",
   "execution_count": 1,
   "id": "14042226",
   "metadata": {},
   "outputs": [
    {
     "name": "stderr",
     "output_type": "stream",
     "text": [
      "/home/kartik/anaconda3/envs/NLPenv/lib/python3.11/site-packages/tqdm/auto.py:21: TqdmWarning: IProgress not found. Please update jupyter and ipywidgets. See https://ipywidgets.readthedocs.io/en/stable/user_install.html\n",
      "  from .autonotebook import tqdm as notebook_tqdm\n"
     ]
    }
   ],
   "source": [
    "import torch\n",
    "import numpy as np\n",
    "\n",
    "from transformers import AutoModel, AutoModelForCausalLM , AutoTokenizer"
   ]
  },
  {
   "cell_type": "markdown",
   "id": "1aebb624",
   "metadata": {},
   "source": [
    "## Playing with GPT\n",
    "\n",
    "GPT is a causal transformer encoder trained as a language model. The pre-trained model, along with the corresponding tokenizer, can be directly loaded via the Huggingface library simply by specifying a specific checkpoint (aka model name) such as \"gpt2\" or \"bert-base-uncased\". See https://huggingface.co/models for an extensive list of models that can be imported.\n",
    "\n",
    "Note that Huggingface models often come with the transformer encoder along with the associated \"classification head\", depending on the class invoked. For instance, AutoModelForCausalLM will yield the model with a LM classification head that predicts a probability distribution function over the vocabulary from the encoded/contextual representation of the tokens at the input. Simply using AutoModel will yield the encoder with no classification head. \n",
    "\n",
    "We will use both options in this labwork but you have to be aware that there are other options down there such as AutoModelForSequenceClassification (document classification) or AutoModelForTokenClassification (tagging). We will not use these at this stage (nor at a later stage) to clearly evidence what a classification head is and how it works.\n",
    "\n",
    "Huggingface documentation on the GPT2 model: https://huggingface.co/docs/transformers/model_doc/gpt2"
   ]
  },
  {
   "cell_type": "markdown",
   "id": "a7549aaa",
   "metadata": {},
   "source": [
    "### Getting acquainted with the model"
   ]
  },
  {
   "cell_type": "code",
   "execution_count": 2,
   "id": "ee6bfed6",
   "metadata": {},
   "outputs": [
    {
     "name": "stdout",
     "output_type": "stream",
     "text": [
      "GPT2TokenizerFast(name_or_path='gpt2', vocab_size=50257, model_max_length=1024, is_fast=True, padding_side='right', truncation_side='right', special_tokens={'bos_token': '<|endoftext|>', 'eos_token': '<|endoftext|>', 'unk_token': '<|endoftext|>'}, clean_up_tokenization_spaces=False, added_tokens_decoder={\n",
      "\t50256: AddedToken(\"<|endoftext|>\", rstrip=False, lstrip=False, single_word=False, normalized=True, special=True),\n",
      "}\n",
      ")\n",
      "\n",
      "GPT2Config {\n",
      "  \"_attn_implementation_autoset\": true,\n",
      "  \"_name_or_path\": \"gpt2\",\n",
      "  \"activation_function\": \"gelu_new\",\n",
      "  \"architectures\": [\n",
      "    \"GPT2LMHeadModel\"\n",
      "  ],\n",
      "  \"attn_pdrop\": 0.1,\n",
      "  \"bos_token_id\": 50256,\n",
      "  \"embd_pdrop\": 0.1,\n",
      "  \"eos_token_id\": 50256,\n",
      "  \"initializer_range\": 0.02,\n",
      "  \"layer_norm_epsilon\": 1e-05,\n",
      "  \"model_type\": \"gpt2\",\n",
      "  \"n_ctx\": 1024,\n",
      "  \"n_embd\": 768,\n",
      "  \"n_head\": 12,\n",
      "  \"n_inner\": null,\n",
      "  \"n_layer\": 12,\n",
      "  \"n_positions\": 1024,\n",
      "  \"reorder_and_upcast_attn\": false,\n",
      "  \"resid_pdrop\": 0.1,\n",
      "  \"scale_attn_by_inverse_layer_idx\": false,\n",
      "  \"scale_attn_weights\": true,\n",
      "  \"summary_activation\": null,\n",
      "  \"summary_first_dropout\": 0.1,\n",
      "  \"summary_proj_to_labels\": true,\n",
      "  \"summary_type\": \"cls_index\",\n",
      "  \"summary_use_proj\": true,\n",
      "  \"task_specific_params\": {\n",
      "    \"text-generation\": {\n",
      "      \"do_sample\": true,\n",
      "      \"max_length\": 50\n",
      "    }\n",
      "  },\n",
      "  \"transformers_version\": \"4.47.0\",\n",
      "  \"use_cache\": true,\n",
      "  \"vocab_size\": 50257\n",
      "}\n",
      "\n",
      "\n"
     ]
    },
    {
     "data": {
      "text/plain": [
       "GPT2LMHeadModel(\n",
       "  (transformer): GPT2Model(\n",
       "    (wte): Embedding(50257, 768)\n",
       "    (wpe): Embedding(1024, 768)\n",
       "    (drop): Dropout(p=0.1, inplace=False)\n",
       "    (h): ModuleList(\n",
       "      (0-11): 12 x GPT2Block(\n",
       "        (ln_1): LayerNorm((768,), eps=1e-05, elementwise_affine=True)\n",
       "        (attn): GPT2SdpaAttention(\n",
       "          (c_attn): Conv1D(nf=2304, nx=768)\n",
       "          (c_proj): Conv1D(nf=768, nx=768)\n",
       "          (attn_dropout): Dropout(p=0.1, inplace=False)\n",
       "          (resid_dropout): Dropout(p=0.1, inplace=False)\n",
       "        )\n",
       "        (ln_2): LayerNorm((768,), eps=1e-05, elementwise_affine=True)\n",
       "        (mlp): GPT2MLP(\n",
       "          (c_fc): Conv1D(nf=3072, nx=768)\n",
       "          (c_proj): Conv1D(nf=768, nx=3072)\n",
       "          (act): NewGELUActivation()\n",
       "          (dropout): Dropout(p=0.1, inplace=False)\n",
       "        )\n",
       "      )\n",
       "    )\n",
       "    (ln_f): LayerNorm((768,), eps=1e-05, elementwise_affine=True)\n",
       "  )\n",
       "  (lm_head): Linear(in_features=768, out_features=50257, bias=False)\n",
       ")"
      ]
     },
     "execution_count": 2,
     "metadata": {},
     "output_type": "execute_result"
    }
   ],
   "source": [
    "#\n",
    "# Loading the transformer encoder as well as the LM classification head that predicts a\n",
    "# probability distribution over the vocabulary from the token contextual embeddings. The\n",
    "# model loaded defines the architecture and the weights, both for the encoder and the LM\n",
    "# classification head.\n",
    "#\n",
    "checkpoint = 'gpt2'\n",
    "\n",
    "tokenizer = AutoTokenizer.from_pretrained(checkpoint) # load tokenizer\n",
    "print(tokenizer)\n",
    "print()\n",
    "\n",
    "#\n",
    "# print a few things about the model -- can you identify some of the important features such\n",
    "# as the embedding dimension, the vocabulary size, the maximum authorized sequence length? No \n",
    "# worries if you don't understand all the parameters, you're not supposed to anyway. \n",
    "# \n",
    "# See https://huggingface.co/docs/transformers/model_doc/gpt2#transformers.GPT2Config\n",
    "#\n",
    "model = AutoModelForCausalLM.from_pretrained(checkpoint) # load model\n",
    "print(model.config)\n",
    "\n",
    "print()\n",
    "model.eval()"
   ]
  },
  {
   "cell_type": "code",
   "execution_count": 3,
   "id": "47867334",
   "metadata": {},
   "outputs": [
    {
     "name": "stdout",
     "output_type": "stream",
     "text": [
      "Output of tokenizer:\n",
      " {'input_ids': tensor([[   40,  2883,  2712,   351, 27140, 10128,    13]]), 'attention_mask': tensor([[1, 1, 1, 1, 1, 1, 1]])}\n",
      "Tokens and text: ['I', 'Ġenjoy', 'Ġplaying', 'Ġwith', 'ĠLL', 'Ms', '.'] --> I enjoy playing with LLMs.\n",
      "Output shape: torch.Size([1, 7, 50257])\n"
     ]
    }
   ],
   "source": [
    "#\n",
    "# Now let's encode a sentence and run it through the model to see what we get out of it\n",
    "#\n",
    "# See https://huggingface.co/docs/transformers/model_doc/gpt2#transformers.GPT2LMHeadModel for details\n",
    "# on the forward function of a GPT2LMHeadModel model.\n",
    "#\n",
    "\n",
    "text = 'I enjoy playing with LLMs.'\n",
    "\n",
    "#\n",
    "# Let's first have a look at what the tokenizer does.\n",
    "#\n",
    "# Question: Why do you think we have an 'attention_mask' attribute at the output of the tokenizer?\n",
    "# Attention mask tells which words are real and which are padding. It is used to mask the padding tokens. Also it can be used to ignore some words in the input sequence.\n",
    "inputs = tokenizer(text, return_tensors=\"pt\")\n",
    "print('Output of tokenizer:\\n', inputs)\n",
    "print('Tokens and text:', tokenizer.convert_ids_to_tokens(inputs['input_ids'][0]), '-->', tokenizer.decode(inputs['input_ids'][0]))\n",
    "\n",
    "#\n",
    "# Run tokens through the model\n",
    "#\n",
    "# Question: Explain the output that we have \n",
    "# The output is the logits of the next token in the sequence. The model predicts the next token in the sequence given the input tokens.\n",
    "with torch.no_grad():\n",
    "    outputs = model(**inputs)\n",
    "\n",
    "print('Output shape:', outputs.logits.shape)"
   ]
  },
  {
   "cell_type": "markdown",
   "id": "97353093",
   "metadata": {},
   "source": [
    "### Looking at token probabilities and generating language"
   ]
  },
  {
   "cell_type": "code",
   "execution_count": 4,
   "id": "f50d2f22",
   "metadata": {},
   "outputs": [
    {
     "name": "stdout",
     "output_type": "stream",
     "text": [
      "LM probabilities for sequence ['I', 'Ġenjoy', 'Ġplaying', 'Ġwith', 'ĠLL', 'Ms', '.']\n",
      "  P[Ġenjoy|I] = -9.013782\n",
      "  P[Ġplaying|I Ġenjoy] = -3.731972\n",
      "  P[Ġwith|I Ġenjoy Ġplaying] = -1.458015\n",
      "  P[ĠLL|I Ġenjoy Ġplaying Ġwith] = -11.036862\n",
      "  P[Ms|I Ġenjoy Ġplaying Ġwith ĠLL] = -7.387120\n",
      "  P[.|I Ġenjoy Ġplaying Ġwith ĠLL Ms] = -1.864156\n"
     ]
    }
   ],
   "source": [
    "#\n",
    "# Let's have a look at the LM probabilities\n",
    "#\n",
    "\n",
    "#\n",
    "# get all log-probabilities\n",
    "#\n",
    "with torch.no_grad():\n",
    "    logprobs = torch.nn.LogSoftmax(dim=-1)(outputs.logits)[0]\n",
    "\n",
    "#\n",
    "# print LM probabilities for each token in the input\n",
    "#\n",
    "ids = inputs['input_ids'][0]\n",
    "tokens = tokenizer.convert_ids_to_tokens(inputs['input_ids'][0])\n",
    "\n",
    "print('LM probabilities for sequence', tokens)\n",
    "for i in range(len(ids) - 1):\n",
    "    \n",
    "    next_token = ids[i+1].item()\n",
    "    lm_prob = logprobs[i, next_token].item()\n",
    "    \n",
    "    print('  P[{}|{}] = {:.6f}'.format(tokens[i+1], ' '.join(tokens[:i+1]), lm_prob))\n",
    "    \n",
    "#   \n",
    "# TODO ::: Find most likely token following with in the input\n",
    "#\n"
   ]
  },
  {
   "cell_type": "code",
   "execution_count": 5,
   "id": "edffae33",
   "metadata": {},
   "outputs": [
    {
     "name": "stdout",
     "output_type": "stream",
     "text": [
      "Prompt: I enjoy playing with\n",
      "Next token:  my\n",
      "Prompt: I enjoy playing with my\n",
      "Prompt: I enjoy playing with my friends\n",
      "Prompt: I enjoy playing with my friends,\n",
      "Prompt: I enjoy playing with my friends, and\n",
      "Prompt: I enjoy playing with my friends, and I\n",
      "Prompt: I enjoy playing with my friends, and I'm\n",
      "Prompt: I enjoy playing with my friends, and I'm always\n",
      "Prompt: I enjoy playing with my friends, and I'm always looking\n",
      "Prompt: I enjoy playing with my friends, and I'm always looking for\n",
      "Prompt: I enjoy playing with my friends, and I'm always looking for new\n"
     ]
    }
   ],
   "source": [
    "#\n",
    "# Write a prompt completion function based on GPT-2, following the idea of the previous labwork.\n",
    "#\n",
    "# For sake of simplicity, we will run the entire sequence through the model at each step rather\n",
    "# than memorizing previous operations to run only one step as we did for RNNs. In other words, \n",
    "# after adding a token to the generated sequence, you will run the entire new sequence through\n",
    "# the model to get the probabilities for the next token. In practice, there are ways to avoid\n",
    "# that so as to be much more efficient.\n",
    "#\n",
    "\n",
    "def complete_prompt(sentence,model,tokenizer):\n",
    "    inputs = tokenizer(sentence, return_tensors=\"pt\")\n",
    "    with torch.no_grad():\n",
    "        outputs = model(**inputs)\n",
    "        next = torch.argmax(outputs.logits[0][-1])\n",
    "        next_word = tokenizer.decode(next)\n",
    "    return next_word\n",
    "\n",
    "sentence = 'I enjoy playing with'\n",
    "print('Prompt:', sentence)\n",
    "print('Next token:', complete_prompt(sentence,model,tokenizer))\n",
    "\n",
    "for i in range(10):\n",
    "    sentence += complete_prompt(sentence,model,tokenizer)\n",
    "    print('Prompt:', sentence)\n",
    "    \n",
    "\n"
   ]
  },
  {
   "cell_type": "markdown",
   "id": "873bd690",
   "metadata": {},
   "source": [
    "### Looking at token embeddings"
   ]
  },
  {
   "cell_type": "code",
   "execution_count": 6,
   "id": "6c58e6af",
   "metadata": {},
   "outputs": [
    {
     "name": "stdout",
     "output_type": "stream",
     "text": [
      "13\n",
      "torch.Size([1, 7, 768]) torch.Size([768])\n",
      "torch.Size([1, 7, 768]) torch.Size([768])\n"
     ]
    }
   ],
   "source": [
    "#\n",
    "# We can also get the embeddings of the tokens in addition to the output logits\n",
    "#\n",
    "\n",
    "text = 'I enjoy playing with LLMs.'\n",
    "\n",
    "inputs = tokenizer(text, return_tensors=\"pt\")\n",
    "outputs = model(**inputs, output_hidden_states = True)\n",
    "\n",
    "print(len(outputs.hidden_states))\n",
    "print(outputs.hidden_states[0].shape, outputs.hidden_states[0][0][0].shape) # initial embeddings + positional encoding\n",
    "print(outputs.hidden_states[-1].shape, outputs.hidden_states[-1][0][0].shape) # last layer's embeddings"
   ]
  },
  {
   "cell_type": "code",
   "execution_count": 7,
   "id": "70e1a2a3",
   "metadata": {},
   "outputs": [],
   "source": [
    "#\n",
    "# Here are 15 utterances with the token 'rat' with different meanings and morpho-syntactic functions, plus \n",
    "# one with the token mouse instrad of rat. \n",
    "#\n",
    "# Writea piece of code to visualize the 16 contextual embeddings in 2D with tSNE.\n",
    "#\n",
    "\n",
    "sentences = [\n",
    "\"He decided to rat on his friends to get a lighter sentence.\",\n",
    "\"He's quick to rat out his accomplices.\",\n",
    "\"She felt betrayed when he went to rat her out to the boss.\",\n",
    "\"I can’t believe you would rat on me like that!\",\n",
    "\"The suspect threatened to rat if they didn’t offer a deal.\",\n",
    "\"A rat scurried across the floor last night.\",\n",
    "\"The cat caught a rat in the garden.\",\n",
    "\"The rat is often found in urban areas looking for food.\",\n",
    "\"I heard a rat squeaking in the walls.\",\n",
    "\"The farmer set traps to catch the rat in the barn.\",\n",
    "\"He’s a rat for telling the police everything we did.\",\n",
    "\"No one trusts him anymore because he's known as a rat.\",\n",
    "\"You can’t just rat out your friends like that and expect to be forgiven.\",\n",
    "\"She was labeled a rat after giving up the gang’s hideout.\",\n",
    "\"He tried to act tough, but everyone knew he was a rat who'd sell anyone out.\",\n",
    "\"I heard a mouse squeaking in the walls.\"\n",
    "]\n",
    "\n",
    "#\n",
    "# tokenize all sentences at once: outputs lists rather than tensors to skirt the padding\n",
    "# issue. Will have to convert to tensor before passing along to the model though.\n",
    "#  \n",
    "inputs = tokenizer(sentences) \n",
    "\n",
    "#\n",
    "# retrieve embeddings of the token 'rat' in all sentences\n",
    "#\n",
    "rat_id = tokenizer.encode('a rat is an animal')[1]\n",
    "mouse_id = tokenizer.encode('a mouse is an animal')[1]\n",
    "\n",
    "embeddings = np.empty((len(sentences), model.config.n_embd), dtype='float32')\n",
    "\n",
    "for i in  range(len(sentences)):\n",
    "    token_id = mouse_id if i == len(sentences) - 1 else rat_id\n",
    "    \n",
    "    idx = inputs['input_ids'][i].index(token_id)\n",
    "    \n",
    "    with torch.no_grad():\n",
    "        outputs = model(torch.tensor(inputs['input_ids'][i]), output_hidden_states = True)\n",
    "    \n",
    "    embeddings[i,:] = outputs.hidden_states[-1][idx].detach().numpy()\n",
    "    \n",
    "    ##### TO COMPLETE ##### --> use .detach().numpy() to get rid of gradients and convert to numpy() array\n"
   ]
  },
  {
   "cell_type": "code",
   "execution_count": 8,
   "id": "781f678f",
   "metadata": {},
   "outputs": [
    {
     "name": "stdout",
     "output_type": "stream",
     "text": [
      "(16, 2)\n"
     ]
    },
    {
     "data": {
      "image/png": "[encoded data removed]",
      "text/plain": [
       "<Figure size 640x480 with 1 Axes>"
      ]
     },
     "metadata": {},
     "output_type": "display_data"
    }
   ],
   "source": [
    "#\n",
    "# tSNE projection with cosine distance\n",
    "#\n",
    "\n",
    "from sklearn.manifold import TSNE\n",
    "from matplotlib import pyplot as plt\n",
    "\n",
    "Y = TSNE(n_components=2, metric='cosine', init='random', random_state=0, perplexity=10).fit_transform(embeddings)\n",
    "print(Y.shape)\n",
    "\n",
    "plt.scatter(Y[:,0], Y[:,1])\n",
    "for i in range(len(sentences)):\n",
    "    plt.annotate(str(i+1), xy=(Y[i,0],Y[i,1]))\n"
   ]
  },
  {
   "cell_type": "markdown",
   "id": "744891b0",
   "metadata": {},
   "source": [
    "## Playing with BERT\n",
    "\n",
    "BERT is a bidirectional transformer pre-trained with a dual objective: masked language modeling and  next sentence prediction (see course slideware). Similar to GPT2, pre-trained models can be downloaded from the Huggingface library to play with. They might come with a classification head or not, depending on the class used to load them."
   ]
  },
  {
   "cell_type": "code",
   "execution_count": 9,
   "id": "1cb2c6a1",
   "metadata": {},
   "outputs": [
    {
     "name": "stderr",
     "output_type": "stream",
     "text": [
      "If you want to use `BertLMHeadModel` as a standalone, add `is_decoder=True.`\n"
     ]
    },
    {
     "name": "stdout",
     "output_type": "stream",
     "text": [
      "BertTokenizerFast(name_or_path='bert-base-uncased', vocab_size=30522, model_max_length=512, is_fast=True, padding_side='right', truncation_side='right', special_tokens={'unk_token': '[UNK]', 'sep_token': '[SEP]', 'pad_token': '[PAD]', 'cls_token': '[CLS]', 'mask_token': '[MASK]'}, clean_up_tokenization_spaces=False, added_tokens_decoder={\n",
      "\t0: AddedToken(\"[PAD]\", rstrip=False, lstrip=False, single_word=False, normalized=False, special=True),\n",
      "\t100: AddedToken(\"[UNK]\", rstrip=False, lstrip=False, single_word=False, normalized=False, special=True),\n",
      "\t101: AddedToken(\"[CLS]\", rstrip=False, lstrip=False, single_word=False, normalized=False, special=True),\n",
      "\t102: AddedToken(\"[SEP]\", rstrip=False, lstrip=False, single_word=False, normalized=False, special=True),\n",
      "\t103: AddedToken(\"[MASK]\", rstrip=False, lstrip=False, single_word=False, normalized=False, special=True),\n",
      "}\n",
      ")\n",
      "\n",
      "BertConfig {\n",
      "  \"_attn_implementation_autoset\": true,\n",
      "  \"_name_or_path\": \"bert-base-uncased\",\n",
      "  \"architectures\": [\n",
      "    \"BertForMaskedLM\"\n",
      "  ],\n",
      "  \"attention_probs_dropout_prob\": 0.1,\n",
      "  \"classifier_dropout\": null,\n",
      "  \"gradient_checkpointing\": false,\n",
      "  \"hidden_act\": \"gelu\",\n",
      "  \"hidden_dropout_prob\": 0.1,\n",
      "  \"hidden_size\": 768,\n",
      "  \"initializer_range\": 0.02,\n",
      "  \"intermediate_size\": 3072,\n",
      "  \"layer_norm_eps\": 1e-12,\n",
      "  \"max_position_embeddings\": 512,\n",
      "  \"model_type\": \"bert\",\n",
      "  \"num_attention_heads\": 12,\n",
      "  \"num_hidden_layers\": 12,\n",
      "  \"pad_token_id\": 0,\n",
      "  \"position_embedding_type\": \"absolute\",\n",
      "  \"transformers_version\": \"4.47.0\",\n",
      "  \"type_vocab_size\": 2,\n",
      "  \"use_cache\": true,\n",
      "  \"vocab_size\": 30522\n",
      "}\n",
      "\n",
      "\n"
     ]
    },
    {
     "data": {
      "text/plain": [
       "BertLMHeadModel(\n",
       "  (bert): BertModel(\n",
       "    (embeddings): BertEmbeddings(\n",
       "      (word_embeddings): Embedding(30522, 768, padding_idx=0)\n",
       "      (position_embeddings): Embedding(512, 768)\n",
       "      (token_type_embeddings): Embedding(2, 768)\n",
       "      (LayerNorm): LayerNorm((768,), eps=1e-12, elementwise_affine=True)\n",
       "      (dropout): Dropout(p=0.1, inplace=False)\n",
       "    )\n",
       "    (encoder): BertEncoder(\n",
       "      (layer): ModuleList(\n",
       "        (0-11): 12 x BertLayer(\n",
       "          (attention): BertAttention(\n",
       "            (self): BertSdpaSelfAttention(\n",
       "              (query): Linear(in_features=768, out_features=768, bias=True)\n",
       "              (key): Linear(in_features=768, out_features=768, bias=True)\n",
       "              (value): Linear(in_features=768, out_features=768, bias=True)\n",
       "              (dropout): Dropout(p=0.1, inplace=False)\n",
       "            )\n",
       "            (output): BertSelfOutput(\n",
       "              (dense): Linear(in_features=768, out_features=768, bias=True)\n",
       "              (LayerNorm): LayerNorm((768,), eps=1e-12, elementwise_affine=True)\n",
       "              (dropout): Dropout(p=0.1, inplace=False)\n",
       "            )\n",
       "          )\n",
       "          (intermediate): BertIntermediate(\n",
       "            (dense): Linear(in_features=768, out_features=3072, bias=True)\n",
       "            (intermediate_act_fn): GELUActivation()\n",
       "          )\n",
       "          (output): BertOutput(\n",
       "            (dense): Linear(in_features=3072, out_features=768, bias=True)\n",
       "            (LayerNorm): LayerNorm((768,), eps=1e-12, elementwise_affine=True)\n",
       "            (dropout): Dropout(p=0.1, inplace=False)\n",
       "          )\n",
       "        )\n",
       "      )\n",
       "    )\n",
       "  )\n",
       "  (cls): BertOnlyMLMHead(\n",
       "    (predictions): BertLMPredictionHead(\n",
       "      (transform): BertPredictionHeadTransform(\n",
       "        (dense): Linear(in_features=768, out_features=768, bias=True)\n",
       "        (transform_act_fn): GELUActivation()\n",
       "        (LayerNorm): LayerNorm((768,), eps=1e-12, elementwise_affine=True)\n",
       "      )\n",
       "      (decoder): Linear(in_features=768, out_features=30522, bias=True)\n",
       "    )\n",
       "  )\n",
       ")"
      ]
     },
     "execution_count": 9,
     "metadata": {},
     "output_type": "execute_result"
    }
   ],
   "source": [
    "checkpoint = 'bert-base-uncased'\n",
    "\n",
    "tokenizer = AutoTokenizer.from_pretrained(checkpoint) # load tokenizer\n",
    "print(tokenizer)\n",
    "print()\n",
    "\n",
    "#\n",
    "# print a few things about the model -- can you identify some of the important features such\n",
    "# as the embedding dimension, the vocabulary size, the maximum authorized sequence length? No \n",
    "# worries if you don't understand all the parameters, you're not supposed to anyway. \n",
    "# \n",
    "# See https://huggingface.co/docs/transformers/model_doc/gpt2#transformers.GPT2Config\n",
    "#\n",
    "model = AutoModelForCausalLM.from_pretrained(checkpoint) # load model\n",
    "print(model.config)\n",
    "\n",
    "print()\n",
    "model.eval()"
   ]
  },
  {
   "cell_type": "code",
   "execution_count": 10,
   "id": "ac918fbc",
   "metadata": {},
   "outputs": [
    {
     "name": "stdout",
     "output_type": "stream",
     "text": [
      "Output of tokenizer:\n",
      " {'input_ids': tensor([[ 101, 1045, 5959,  103, 2007, 2222, 5244, 1012,  102]]), 'token_type_ids': tensor([[0, 0, 0, 0, 0, 0, 0, 0, 0]]), 'attention_mask': tensor([[1, 1, 1, 1, 1, 1, 1, 1, 1]])}\n",
      "Tokens and text: ['[CLS]', 'i', 'enjoy', '[MASK]', 'with', 'll', '##ms', '.', '[SEP]'] -- [CLS] i enjoy [MASK] with llms. [SEP]\n",
      "Output shape: torch.Size([1, 9, 30522])\n"
     ]
    }
   ],
   "source": [
    "text = 'I enjoy [MASK] with LLMs.'\n",
    "\n",
    "inputs = tokenizer(text, return_tensors=\"pt\")\n",
    "print('Output of tokenizer:\\n', inputs)\n",
    "print('Tokens and text:', tokenizer.convert_ids_to_tokens(inputs['input_ids'][0]), '--', tokenizer.decode(inputs['input_ids'][0]))\n",
    "\n",
    "with torch.no_grad():\n",
    "    outputs = model(**inputs)\n",
    "\n",
    "print('Output shape:', outputs.logits.shape)"
   ]
  },
  {
   "cell_type": "code",
   "execution_count": 17,
   "id": "918c17ff",
   "metadata": {},
   "outputs": [
    {
     "name": "stdout",
     "output_type": "stream",
     "text": [
      "Token: working, Log-Probability: 11.324710845947266\n",
      "Token: dealing, Log-Probability: 9.325420379638672\n",
      "Token: studying, Log-Probability: 9.078275680541992\n",
      "Token: playing, Log-Probability: 8.071203231811523\n",
      "Token: it, Log-Probability: 7.9164323806762695\n",
      "Token: being, Log-Probability: 7.7888665199279785\n",
      "Token: training, Log-Probability: 7.760747909545898\n",
      "Token: myself, Log-Probability: 7.727956295013428\n",
      "Token: work, Log-Probability: 7.538906097412109\n",
      "Token: living, Log-Probability: 7.442696571350098\n"
     ]
    }
   ],
   "source": [
    "# Get the logits for the masked token\n",
    "mask_token_index = torch.where(inputs[\"input_ids\"] == tokenizer.mask_token_id)[1]\n",
    "mask_token_logits = outputs.logits[0, mask_token_index, :]\n",
    "\n",
    "# Get the top 10 tokens and their log-probabilities\n",
    "top_k = 10\n",
    "top_k_tokens = torch.topk(mask_token_logits, top_k, dim=1)\n",
    "\n",
    "# Convert token indices to actual tokens\n",
    "top_k_token_ids = top_k_tokens.indices[0].tolist()\n",
    "top_k_log_probs = top_k_tokens.values[0].tolist()\n",
    "top_k_tokens = [tokenizer.decode([token_id]) for token_id in top_k_token_ids]\n",
    "\n",
    "# Print the results\n",
    "for token, log_prob in zip(top_k_tokens, top_k_log_probs):\n",
    "    print(f\"Token: {token}, Log-Probability: {log_prob}\")"
   ]
  },
  {
   "cell_type": "code",
   "execution_count": null,
   "id": "2f970c84",
   "metadata": {},
   "outputs": [],
   "source": [
    "#\n",
    "# What are the 10 most likely tokens for the mask and the corresponding log-probabilities?\n",
    "#\n",
    "# Hint: you can use the torch.topk() function to get the top k values and indices\n",
    "# of a tensor\n",
    "#\n",
    "\n",
    "\n"
   ]
  },
  {
   "cell_type": "code",
   "execution_count": 22,
   "id": "c1512cea",
   "metadata": {},
   "outputs": [],
   "source": [
    "#\n",
    "# Take the same 15 sentences with token 'rat' (plus th eone with 'mouse'), get the contextual \n",
    "# embeddings at the output of the BERT model and plot again. The code is roughly the same as\n",
    "# for the gtp2 model\n",
    "#\n",
    "sentences = [\n",
    "\"He decided to rat on his friends to get a lighter sentence.\",\n",
    "\"He's quick to rat out his accomplices.\",\n",
    "\"She felt betrayed when he went to rat her out to the boss.\",\n",
    "\"I can’t believe you would rat on me like that!\",\n",
    "\"The suspect threatened to rat if they didn’t offer a deal.\",\n",
    "\"A rat scurried across the floor last night.\",\n",
    "\"The cat caught a rat in the garden.\",\n",
    "\"The rat is often found in urban areas looking for food.\",\n",
    "\"I heard a rat squeaking in the walls.\",\n",
    "\"The farmer set traps to catch the rat in the barn.\",\n",
    "\"He’s a rat for telling the police everything we did.\",\n",
    "\"No one trusts him anymore because he's known as a rat.\",\n",
    "\"You can’t just rat out your friends like that and expect to be forgiven.\",\n",
    "\"She was labeled a rat after giving up the gang’s hideout.\",\n",
    "\"He tried to act tough, but everyone knew he was a rat who'd sell anyone out.\",\n",
    "\"I heard a mouse squeaking in the walls.\"\n",
    "]\n",
    "\n",
    "#\n",
    "# tokenize all sentences at once: outputs lists rather than tensors to skirt the padding\n",
    "# issue. Will have to convert to tensor before passing along to the model though.\n",
    "#  \n",
    "inputs = tokenizer(sentences) \n",
    "\n",
    "#\n",
    "# retrieve embeddings of the token 'rat' in all sentences\n",
    "#\n",
    "rat_id = tokenizer.convert_tokens_to_ids('rat')\n",
    "mouse_id = tokenizer.convert_tokens_to_ids('mouse')\n",
    "\n",
    "embeddings = np.empty((len(sentences), model.config.hidden_size), dtype='float32')\n",
    "\n",
    "for i in range(len(sentences)):\n",
    "    token_id = mouse_id if i == len(sentences) - 1 else rat_id\n",
    "    \n",
    "    try:\n",
    "        idx = inputs['input_ids'][i].index(token_id)\n",
    "    except ValueError:\n",
    "        print(f\"Token ID {token_id} not found in sentence: {sentences[i]}\")\n",
    "        continue\n",
    "    \n",
    "    with torch.no_grad():\n",
    "        input_ids = torch.tensor(inputs['input_ids'][i]).unsqueeze(0)  # Add batch dimension\n",
    "        outputs = model(input_ids, output_hidden_states=True)\n",
    "    \n",
    "    embeddings[i, :] = outputs.hidden_states[-1][0, idx].detach().numpy()  # Correctly index the output"
   ]
  },
  {
   "cell_type": "code",
   "execution_count": 23,
   "id": "ade1133d",
   "metadata": {},
   "outputs": [
    {
     "name": "stdout",
     "output_type": "stream",
     "text": [
      "(16, 2)\n"
     ]
    },
    {
     "data": {
      "image/png": "[encoded data removed]",
      "text/plain": [
       "<Figure size 640x480 with 1 Axes>"
      ]
     },
     "metadata": {},
     "output_type": "display_data"
    }
   ],
   "source": [
    "#\n",
    "# tSNE projection with cosine distance\n",
    "#\n",
    "\n",
    "from sklearn.manifold import TSNE\n",
    "from matplotlib import pyplot as plt\n",
    "\n",
    "Y = TSNE(n_components=2, metric='cosine', init='random', random_state=0, perplexity=10).fit_transform(embeddings)\n",
    "print(Y.shape)\n",
    "\n",
    "plt.scatter(Y[:,0], Y[:,1])\n",
    "for i in range(len(sentences)):\n",
    "    plt.annotate(str(i+1), xy=(Y[i,0],Y[i,1]))"
   ]
  },
  {
   "cell_type": "markdown",
   "id": "9e6f84f9",
   "metadata": {},
   "source": [
    "## Final note\n",
    "\n",
    "If you are only interested by the pre-trained encoder, be it a gpt2 encoder or a BERT one, you  can load the models without any classification head, in which case the output directly contains the (contextual) embeddings of the tokens. The following cell for instance illustrate how to do that for a BERT model. In the next lecture, we will use the encoder and the resulting embeddings as part of a neural network architecture and fine-tune the encoder and train the classification elements in the network for a document classification task. \n",
    "\n",
    "See https://huggingface.co/transformers/v3.5.1/model_doc/bert.html#bertmodel for details.\n"
   ]
  },
  {
   "cell_type": "code",
   "execution_count": 13,
   "id": "3b32c1cb",
   "metadata": {},
   "outputs": [
    {
     "name": "stdout",
     "output_type": "stream",
     "text": [
      "BertConfig {\n",
      "  \"_attn_implementation_autoset\": true,\n",
      "  \"_name_or_path\": \"bert-base-uncased\",\n",
      "  \"architectures\": [\n",
      "    \"BertForMaskedLM\"\n",
      "  ],\n",
      "  \"attention_probs_dropout_prob\": 0.1,\n",
      "  \"classifier_dropout\": null,\n",
      "  \"gradient_checkpointing\": false,\n",
      "  \"hidden_act\": \"gelu\",\n",
      "  \"hidden_dropout_prob\": 0.1,\n",
      "  \"hidden_size\": 768,\n",
      "  \"initializer_range\": 0.02,\n",
      "  \"intermediate_size\": 3072,\n",
      "  \"layer_norm_eps\": 1e-12,\n",
      "  \"max_position_embeddings\": 512,\n",
      "  \"model_type\": \"bert\",\n",
      "  \"num_attention_heads\": 12,\n",
      "  \"num_hidden_layers\": 12,\n",
      "  \"pad_token_id\": 0,\n",
      "  \"position_embedding_type\": \"absolute\",\n",
      "  \"transformers_version\": \"4.47.0\",\n",
      "  \"type_vocab_size\": 2,\n",
      "  \"use_cache\": true,\n",
      "  \"vocab_size\": 30522\n",
      "}\n",
      "\n",
      "\n"
     ]
    },
    {
     "data": {
      "text/plain": [
       "BertModel(\n",
       "  (embeddings): BertEmbeddings(\n",
       "    (word_embeddings): Embedding(30522, 768, padding_idx=0)\n",
       "    (position_embeddings): Embedding(512, 768)\n",
       "    (token_type_embeddings): Embedding(2, 768)\n",
       "    (LayerNorm): LayerNorm((768,), eps=1e-12, elementwise_affine=True)\n",
       "    (dropout): Dropout(p=0.1, inplace=False)\n",
       "  )\n",
       "  (encoder): BertEncoder(\n",
       "    (layer): ModuleList(\n",
       "      (0-11): 12 x BertLayer(\n",
       "        (attention): BertAttention(\n",
       "          (self): BertSdpaSelfAttention(\n",
       "            (query): Linear(in_features=768, out_features=768, bias=True)\n",
       "            (key): Linear(in_features=768, out_features=768, bias=True)\n",
       "            (value): Linear(in_features=768, out_features=768, bias=True)\n",
       "            (dropout): Dropout(p=0.1, inplace=False)\n",
       "          )\n",
       "          (output): BertSelfOutput(\n",
       "            (dense): Linear(in_features=768, out_features=768, bias=True)\n",
       "            (LayerNorm): LayerNorm((768,), eps=1e-12, elementwise_affine=True)\n",
       "            (dropout): Dropout(p=0.1, inplace=False)\n",
       "          )\n",
       "        )\n",
       "        (intermediate): BertIntermediate(\n",
       "          (dense): Linear(in_features=768, out_features=3072, bias=True)\n",
       "          (intermediate_act_fn): GELUActivation()\n",
       "        )\n",
       "        (output): BertOutput(\n",
       "          (dense): Linear(in_features=3072, out_features=768, bias=True)\n",
       "          (LayerNorm): LayerNorm((768,), eps=1e-12, elementwise_affine=True)\n",
       "          (dropout): Dropout(p=0.1, inplace=False)\n",
       "        )\n",
       "      )\n",
       "    )\n",
       "  )\n",
       ")"
      ]
     },
     "execution_count": 13,
     "metadata": {},
     "output_type": "execute_result"
    }
   ],
   "source": [
    "model = AutoModel.from_pretrained(checkpoint, add_pooling_layer=False)\n",
    "print(model.config)\n",
    "\n",
    "print()\n",
    "model.eval()"
   ]
  },
  {
   "cell_type": "code",
   "execution_count": 14,
   "id": "676b1954",
   "metadata": {},
   "outputs": [
    {
     "name": "stdout",
     "output_type": "stream",
     "text": [
      "Output of tokenizer:\n",
      " {'input_ids': tensor([[ 101, 1045, 5959, 2652, 2007, 2222, 5244, 1012,  102]]), 'token_type_ids': tensor([[0, 0, 0, 0, 0, 0, 0, 0, 0]]), 'attention_mask': tensor([[1, 1, 1, 1, 1, 1, 1, 1, 1]])}\n",
      "Last hidden states shape: torch.Size([1, 9, 768])\n"
     ]
    }
   ],
   "source": [
    "text = 'I enjoy playing with LLMs.'\n",
    "\n",
    "inputs = tokenizer(text, return_tensors=\"pt\")\n",
    "print('Output of tokenizer:\\n', inputs)\n",
    "\n",
    "with torch.no_grad():\n",
    "    outputs = model(**inputs)\n",
    "\n",
    "print('Last hidden states shape:', outputs['last_hidden_state'].shape)\n",
    "\n",
    "\n",
    "# now you can plug these contextual embeddings into a model... but that's for next (and last) session !"
   ]
  },
  {
   "cell_type": "code",
   "execution_count": null,
   "id": "02c4a9e4",
   "metadata": {},
   "outputs": [],
   "source": []
  }
 ],
 "metadata": {
  "kernelspec": {
   "display_name": "NLPenv",
   "language": "python",
   "name": "python3"
  },
  "language_info": {
   "codemirror_mode": {
    "name": "ipython",
    "version": 3
   },
   "file_extension": ".py",
   "mimetype": "text/x-python",
   "name": "python",
   "nbconvert_exporter": "python",
   "pygments_lexer": "ipython3",
   "version": "3.11.10"
  }
 },
 "nbformat": 4,
 "nbformat_minor": 5
}
